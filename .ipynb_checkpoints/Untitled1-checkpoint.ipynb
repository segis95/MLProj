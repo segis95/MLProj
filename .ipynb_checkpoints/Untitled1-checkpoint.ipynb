{
 "cells": [
  {
   "cell_type": "code",
   "execution_count": 2,
   "metadata": {},
   "outputs": [],
   "source": [
    "import matplotlib.pyplot as plt"
   ]
  },
  {
   "cell_type": "code",
   "execution_count": 19,
   "metadata": {},
   "outputs": [],
   "source": [
    "L1 = [27.23,30.13,31.12,31.71,32.19, 32.51,32.87, 32.56, 32.32,33.45,33.26,\n",
    "      33.54,33.63,33.98, 34.35, 33.86, 34.16, 34.82, 33.53, 34.81 ]\n",
    "\n",
    "L2 = [6,11,14,17,18,20,22,24,25,27,28,29,29.14,29.77, 30.81, 31.22,31.79,\n",
    "     32.26, 32.32, 33.30, 33.18, 34.48, 34.81, 35.48, 34.96, 35.70]\n",
    "\"\"\"     36.46, 37.06, 37.63, 37.91, 38.08, 38.92, 39.29, 39.81, 39.62, 40.00, \n",
    "     40.32, 40.66, 40.97, 41.31, 41.92, 41.96, 42.29, 43.09, 43.24, 43.76,\n",
    "     43.40, 42.93, 43.57, 44.07, 44.15, 44.90, 44.64, 45.08]\"\"\""
   ]
  },
  {
   "cell_type": "code",
   "execution_count": 21,
   "metadata": {},
   "outputs": [],
   "source": [
    "plt.plot([22 * i for i in range(len(L1))], [i for i in L1], label = \"Transfer learning\")\n",
    "plt.plot([50 * i for i in range(len(L2))], L2, label = \"Direct training\")\n",
    "plt.legend()\n",
    "plt.xlabel(\"time\")\n",
    "plt.ylabel(\"accuracy\")\n",
    "#plt.show()\n",
    "plt.savefig(\"transfer.png\")"
   ]
  },
  {
   "cell_type": "code",
   "execution_count": null,
   "metadata": {},
   "outputs": [],
   "source": []
  }
 ],
 "metadata": {
  "kernelspec": {
   "display_name": "Python [conda env:condathree]",
   "language": "python",
   "name": "conda-env-condathree-py"
  },
  "language_info": {
   "codemirror_mode": {
    "name": "ipython",
    "version": 3
   },
   "file_extension": ".py",
   "mimetype": "text/x-python",
   "name": "python",
   "nbconvert_exporter": "python",
   "pygments_lexer": "ipython3",
   "version": "3.6.3"
  }
 },
 "nbformat": 4,
 "nbformat_minor": 2
}
